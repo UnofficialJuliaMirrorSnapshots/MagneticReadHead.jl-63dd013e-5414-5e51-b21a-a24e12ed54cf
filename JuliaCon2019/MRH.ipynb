{
 "cells": [
  {
   "cell_type": "markdown",
   "metadata": {
    "slideshow": {
     "slide_type": "slide"
    }
   },
   "source": [
    "# Building a Debugger with Cassette\n",
    "<img src=\"https://avatars1.githubusercontent.com/u/46803805?s=156&v=4\" style=\"display: inline\"> <img src=\"https://raw.githubusercontent.com/jrevels/Cassette.jl/master/docs/img/cassette-logo.png\" width=\"256\" style=\"display: inline\"/>\n",
    "## Lyndon White (@oxinabox)\n",
    "Research Software Engineer   \n",
    "<img  width=\"256\" src=\"https://www.invenia.ca/wp-content/themes/relish_theme/img/labs-logo.png\" />"
   ]
  },
  {
   "cell_type": "code",
   "execution_count": 1,
   "metadata": {
    "slideshow": {
     "slide_type": "skip"
    }
   },
   "outputs": [
    {
     "data": {
      "text/plain": [
       "iprintstyled (generic function with 1 method)"
      ]
     },
     "execution_count": 1,
     "metadata": {},
     "output_type": "execute_result"
    }
   ],
   "source": [
    "function iprintstyled(xs...)\n",
    "    color=last(xs)\n",
    "    x = join(xs[1:end-1])\n",
    "    display(\"text/html\", \"\"\"<pre style=\"color: $color\">$x</pre>\"\"\")\n",
    "end"
   ]
  },
  {
   "cell_type": "markdown",
   "metadata": {
    "slideshow": {
     "slide_type": "subslide"
    }
   },
   "source": [
    "## With Thanks\n",
    " - Tim Holy\n",
    " - Kristoffer Carlsson\n",
    " - Jarrett Revels\n",
    " - Keno Fischer\n",
    " - Valentin Churavy\n"
   ]
  },
  {
   "cell_type": "markdown",
   "metadata": {
    "slideshow": {
     "slide_type": "slide"
    }
   },
   "source": [
    "### 📼📖💆‍♂️ What is Magnetic Read Head ?\n",
    "\n",
    "A Magentic Read Head sits above a cassette tape, and reads the content off, allowing it to be presented to the user.\n",
    "\n",
    " - **MRH** instruments the IR, and uses the **standard compiler**.\n",
    " - **Debugger.jl** uses JuliaInterpreter.jl"
   ]
  },
  {
   "cell_type": "markdown",
   "metadata": {
    "slideshow": {
     "slide_type": "subslide"
    }
   },
   "source": [
    "### 🤔 Why do you want to do this?\n",
    " - MRH was started about the same time as Debugger.jl\n",
    " - There was no functioning debugger for 1.0\n",
    " - Seemed like Cassette+Revise could be used to make a debugger with little effort.\n"
   ]
  },
  {
   "cell_type": "markdown",
   "metadata": {
    "slideshow": {
     "slide_type": "subslide"
    }
   },
   "source": [
    "### 🐁 Codebase sizes:\n",
    "lines in `src` including comments and white space\n",
    "\n",
    "**MRH:**  855 lines   \n",
    "Only 200 of them are doing deep Cassette stuff\n",
    "\n",
    "**Debugger.jl:** 1285 lines  \n",
    "**JuliaInterpreter:** 3780 lines\n"
   ]
  },
  {
   "cell_type": "markdown",
   "metadata": {
    "slideshow": {
     "slide_type": "subslide"
    }
   },
   "source": [
    "### 🚀📈 Performance: \n",
    "\n",
    "```julia\n",
    "function summer(A)\n",
    "   s = zero(eltype(A))\n",
    "   for a in A\n",
    "       s += a\n",
    "   end\n",
    "   return s\n",
    "end\n",
    "```"
   ]
  },
  {
   "cell_type": "markdown",
   "metadata": {
    "slideshow": {
     "slide_type": "subslide"
    }
   },
   "source": [
    "<img src=\"benchmark.png\" width=\"90%\" style=\"display: inline-block\"/>"
   ]
  },
  {
   "cell_type": "markdown",
   "metadata": {
    "slideshow": {
     "slide_type": "subslide"
    }
   },
   "source": [
    "## ⛹️ Performance of debuggers is complicated: \n",
    " - MRH has to recompile every method it touchs the first time,\n",
    "    - run-only-once is common when debugging.\n",
    "    - recompiling large libraries is huge slow\n",
    " - This kind of instrumentation destroys SIMD, and potentially breaks CPU pipelining\n",
    "    - We may be able to ask LLVM to fix this."
   ]
  },
  {
   "cell_type": "markdown",
   "metadata": {
    "slideshow": {
     "slide_type": "subslide"
    }
   },
   "source": [
    "## 🤪 🕳️ Insane blackholes exist\n",
    "\n",
    "```julia\n",
    "julia> foo() = Complex.(rand(1,2), rand(1,2)) * rand(Int, 2,1);\n",
    "\n",
    "julia> @btime foo();\n",
    "  297.770 ns (9 allocations: 720 bytes)\n",
    "\n",
    "julia> @btime Debugger.@run foo();\n",
    "  15.472 ms (46982 allocations: 1.78 MiB)\n",
    "\n",
    "julia> @time MagneticReadHead.@run foo()\n",
    "  #==  Sits there compiling for over 30 minutes before I give up ==#\n",
    "```"
   ]
  },
  {
   "cell_type": "markdown",
   "metadata": {
    "slideshow": {
     "slide_type": "subslide"
    }
   },
   "source": [
    "### 🐋  MRH massively increases the amount of Lowered IR generated\n",
    "\n",
    "Original Code Lowered Size: $$O(n_{statements})\\qquad \\qquad \\mathrm{eg:}\\quad 160$$\n",
    "\n",
    "MRH Instrumented Size: $$O(n_{slots} \\times n_{statements}) \\qquad \\qquad \\mathrm{eg:}\\quad 25,230$$ \n",
    "\n",
    "### Compile time-complexity is worse than quadratic vs IR length"
   ]
  },
  {
   "cell_type": "markdown",
   "metadata": {
    "slideshow": {
     "slide_type": "subslide"
    }
   },
   "source": [
    "### 🚀📈 On Performance:\n",
    "**Debugger.jl**: Significant runtime overhead 🏃⏲️  \n",
    "**MagneticReadHead.jl**: Significant compile-time overhead 💻⏲️\n",
    " - But: This is being worked on in both cases\n",
    " - We **can** have nice things, and the best of both worlds."
   ]
  },
  {
   "cell_type": "markdown",
   "metadata": {
    "slideshow": {
     "slide_type": "slide"
    }
   },
   "source": [
    "## 🐞 What does a debugger need?\n",
    "  - At points in code, check if we are hitting a breakpoint: `should_break(...)`\n",
    "  - if so take some `break_action(...)`\n",
    "  - if not keep running as normal"
   ]
  },
  {
   "cell_type": "markdown",
   "metadata": {
    "slideshow": {
     "slide_type": "subslide"
    }
   },
   "source": [
    "### 🎷🎻 How do we instrument our code to make a debugger work?\n",
    "Insert at points:\n",
    "\n",
    "```julia\n",
    "if should_break(current_location)\n",
    "    break_action(current_location, current_variables)\n",
    "end\n",
    "```"
   ]
  },
  {
   "cell_type": "markdown",
   "metadata": {
    "slideshow": {
     "slide_type": "subslide"
    }
   },
   "source": [
    "### 💔❓ What does `should_break(...)` do?\n",
    " - Check if we are _Stepping_\n",
    " - Check `current_location` against a set of **breakpoint rules**\n",
    "    - e.g. for line number, function, method, module\n",
    "    - that were defined by `set_breakpoint`\n",
    "    "
   ]
  },
  {
   "cell_type": "markdown",
   "metadata": {
    "slideshow": {
     "slide_type": "subslide"
    }
   },
   "source": [
    "### 💔🎥 What does `break_action` do?\n",
    " - Run a REPL, subsituting in the values for the variables\n",
    " - `@eval` things into `Main` scope, \n",
    "    - such that `set_breakpoint` works\n",
    " - Handle actions like `StepNext` by changing debugger state"
   ]
  },
  {
   "cell_type": "markdown",
   "metadata": {
    "slideshow": {
     "slide_type": "subslide"
    }
   },
   "source": [
    "### 💔🎥 What does the `break_action(...)` need ?\n",
    " - know where in the code we are. (**breadcrumbs**)\n",
    " - know the current state: all the **variables**.\n",
    " - Some way to interact with them (**debug REPL**)\n",
    " - Ability to set and remove breakpoints/step-in/out (**control**)"
   ]
  },
  {
   "cell_type": "markdown",
   "metadata": {
    "slideshow": {
     "slide_type": "slide"
    }
   },
   "source": [
    "## ⚡ Julia IR:  Lightning Intro"
   ]
  },
  {
   "cell_type": "markdown",
   "metadata": {
    "slideshow": {
     "slide_type": "subslide"
    }
   },
   "source": [
    "## 🍰 Julia: layers of representenstation:\n",
    " - Source code\n",
    " - AST: `quote`\n",
    " - **Untyped IR**: `@code_lowered`\n",
    " - Typed IR: `@code_typed`\n",
    " - LLVM: `@code_llvm`\n",
    " - ASM: `@code_native`"
   ]
  },
  {
   "cell_type": "markdown",
   "metadata": {
    "slideshow": {
     "slide_type": "subslide"
    }
   },
   "source": [
    "### 🚫⌨️ Untyped IR: this is what we are working with\n",
    " - basically a linearization of the AST.\n",
    " - Only 1 operation per statement (Nested expressions get broken up) \n",
    " - the return values for each statement is accessed as `SSAValue(index)`\n",
    " - Variables ↦ Slots\n",
    " - Control-flow ↦ Goto based expressions\n",
    " - function names ↦ `GlobalRef(mod, func)`\n"
   ]
  },
  {
   "cell_type": "markdown",
   "metadata": {
    "slideshow": {
     "slide_type": "subslide"
    }
   },
   "source": [
    "## 📼🚧 How Does Cassette Work?\n",
    " - It is not magic, Cassette is not specially baked into the compiler.\n",
    " - `@generated` function can return a `Expr` **or** a `CodeInfo`\n",
    " - We return a `CodeInfo` based on a modified version of one for a function argument. Its a bit like a macro with dynamic scope.\n",
    " - This capacity allows on to build AD tools, Mocking tools, Debuggers and more.\n",
    "     - Contrast: Swift for TensorFlow which is adding AD into the compiler."
   ]
  },
  {
   "cell_type": "markdown",
   "metadata": {
    "slideshow": {
     "slide_type": "subslide"
    }
   },
   "source": [
    "### ⚙️🤝 Manual pass\n",
    "```julia\n",
    "call_and_print(f, args...) = (println(f, \" \", args); f(args...))\n",
    "\n",
    "@generated function rewritten(f)\n",
    "    ci = deepcopy(@code_lowered f.instance())\n",
    "    for ii in eachindex(ci.code)\n",
    "        if ci.code[ii] isa Expr && ci.code[ii].head==:call\n",
    "            func = GlobalRef(Main, :call_and_print)\n",
    "            ci.code[ii] = Expr(:call, func, ci.code[ii].args...)\n",
    "        end\n",
    "    end\n",
    "    return ci\n",
    "end\n",
    "```"
   ]
  },
  {
   "cell_type": "markdown",
   "metadata": {
    "slideshow": {
     "slide_type": "subslide"
    }
   },
   "source": [
    "### ⚙️🤝 Result of our manual pass:\n",
    "```julia\n",
    "julia> foo() = 2*(1+1);\n",
    "julia> rewritten(foo)\n",
    "+ (1, 1)\n",
    "* (2, 2)\n",
    "4\n",
    "```"
   ]
  },
  {
   "cell_type": "markdown",
   "metadata": {
    "slideshow": {
     "slide_type": "subslide"
    }
   },
   "source": [
    "### 🔨📼 Rather than doing `call_and_print`:\n",
    "```julia\n",
    "function overdub(f, args...)\n",
    "    println(f, \" \", args)\n",
    "    rewritten(f, args...)\n",
    "end\n",
    "```\n",
    "\n",
    "This is how Cassette (and IRTools, and Arborist) work."
   ]
  },
  {
   "cell_type": "markdown",
   "metadata": {
    "slideshow": {
     "slide_type": "slide"
    }
   },
   "source": [
    "## 🐛 Debugger 1\n",
    "### MRH v0.1-like\n",
    "### Overdub functions you want to debug."
   ]
  },
  {
   "cell_type": "markdown",
   "metadata": {
    "slideshow": {
     "slide_type": "subslide"
    }
   },
   "source": [
    "### 🐛💡 concept prototype:\n",
    " - Overdub function calls to trigger break action.\n",
    " - This will only allow function calls to be intercepted\n",
    " - But most expressions in julia are function calls\n",
    " - So very expressive.\n",
    " - Do not need to touch IR."
   ]
  },
  {
   "cell_type": "code",
   "execution_count": 2,
   "metadata": {
    "slideshow": {
     "slide_type": "subslide"
    }
   },
   "outputs": [],
   "source": [
    "using Cassette\n",
    "Cassette.@context Concept1\n",
    "function Cassette.overdub(ctx::Concept1, f::typeof(+), args...)\n",
    "    method = @which f(args...)\n",
    "    iprintstyled(\"Breakpont Hit\", :red)\n",
    "    iprintstyled(method, :green);\n",
    "    iprintstyled(\"Args: \", args, :blue);\n",
    "    println(\"...press enter to continue...\")\n",
    "    #readline()\n",
    "    \n",
    "    Cassette.recurse(ctx, f, args...)\n",
    "end"
   ]
  },
  {
   "cell_type": "code",
   "execution_count": 3,
   "metadata": {
    "slideshow": {
     "slide_type": "subslide"
    }
   },
   "outputs": [
    {
     "data": {
      "text/html": [
       "<pre style=\"color: red\">Breakpont Hit</pre>"
      ]
     },
     "metadata": {},
     "output_type": "display_data"
    },
    {
     "data": {
      "text/html": [
       "<pre style=\"color: green\">+(x::T, y::T) where T<:Union{Int128, Int16, Int32, Int64, Int8, UInt128, UInt16, UInt32, UInt64, UInt8} in Base at int.jl:53</pre>"
      ]
     },
     "metadata": {},
     "output_type": "display_data"
    },
    {
     "data": {
      "text/html": [
       "<pre style=\"color: blue\">Args: (4, 1)</pre>"
      ]
     },
     "metadata": {},
     "output_type": "display_data"
    },
    {
     "data": {
      "text/html": [
       "<pre style=\"color: red\">Breakpont Hit</pre>"
      ]
     },
     "metadata": {},
     "output_type": "display_data"
    },
    {
     "data": {
      "text/html": [
       "<pre style=\"color: green\">+(x::T, y::T) where T<:Union{Int128, Int16, Int32, Int64, Int8, UInt128, UInt16, UInt32, UInt64, UInt8} in Base at int.jl:53</pre>"
      ]
     },
     "metadata": {},
     "output_type": "display_data"
    },
    {
     "data": {
      "text/html": [
       "<pre style=\"color: blue\">Args: (5, 10)</pre>"
      ]
     },
     "metadata": {},
     "output_type": "display_data"
    },
    {
     "name": "stdout",
     "output_type": "stream",
     "text": [
      "...press enter to continue...\n",
      "...press enter to continue...\n"
     ]
    },
    {
     "data": {
      "text/plain": [
       "15"
      ]
     },
     "execution_count": 3,
     "metadata": {},
     "output_type": "execute_result"
    }
   ],
   "source": [
    "function foo(a)\n",
    "    b = a+1\n",
    "    c= 2b\n",
    "    return b+c\n",
    "end\n",
    "Cassette.recurse(Concept1(), ()->foo(4))"
   ]
  },
  {
   "cell_type": "markdown",
   "metadata": {
    "slideshow": {
     "slide_type": "subslide"
    }
   },
   "source": [
    "### 💡💪 Generalizing that prototype\n",
    " - add setting of breakpoint via `@eval`\n",
    " - add deleting of breakpoints via `Base.deletemethod`\n",
    " - add Stepping via setting a breakpoint on every call\n",
    " - Improve UX via showing a REPL with named variables etc"
   ]
  },
  {
   "cell_type": "code",
   "execution_count": 4,
   "metadata": {
    "slideshow": {
     "slide_type": "subslide"
    }
   },
   "outputs": [
    {
     "data": {
      "text/plain": [
       "set_breakpoint (generic function with 1 method)"
      ]
     },
     "execution_count": 4,
     "metadata": {},
     "output_type": "execute_result"
    }
   ],
   "source": [
    "Cassette.@context Concept2\n",
    "function set_breakpoint(ctx::Concept2, f::F) where F\n",
    "    @eval function Cassette.overdub(ctx::Concept2, f::$F, args...)\n",
    "        method = @which f(args...)\n",
    "        iprintstyled(\"Breakpont Hit\", :red)\n",
    "        iprintstyled(method, :green);\n",
    "        iprintstyled(\"Args: \", args, :blue);\n",
    "        println(\"...press enter to continue...\")\n",
    "        #readline()\n",
    "        if Cassette.canrecurse(ctx, f, args...)\n",
    "            Cassette.recurse(ctx, f, args...)\n",
    "        else \n",
    "            Cassette.fallback(ctx, f, args...)\n",
    "        end\n",
    "    end\n",
    "end"
   ]
  },
  {
   "cell_type": "code",
   "execution_count": null,
   "metadata": {
    "slideshow": {
     "slide_type": "subslide"
    }
   },
   "outputs": [],
   "source": [
    "using Revise: get_method, sigex2sigts, get_signature\n",
    "\n",
    "macro undeclare(expr)\n",
    "    quote\n",
    "        sig = get_signature($(Expr(:quote, expr)))\n",
    "        sigt = only(sigex2sigts(@__MODULE__, sig))\n",
    "        meth = get_method(sigt)\n",
    "        if meth == nothing\n",
    "            @info \"Method not found, thus not removed.\"\n",
    "        else\n",
    "            Base.delete_method(meth)\n",
    "        end\n",
    "    end\n",
    "end\n",
    "\n",
    "function rm_breakpoint(f::F) where F\n",
    "    @undeclare function Cassette.overdub(ctx::MagneticCtx, fi::$(F), zargs...)\n",
    "    end\n",
    "end"
   ]
  },
  {
   "cell_type": "code",
   "execution_count": 5,
   "metadata": {
    "slideshow": {
     "slide_type": "subslide"
    }
   },
   "outputs": [
    {
     "data": {
      "text/html": [
       "<pre style=\"color: red\">Breakpont Hit</pre>"
      ]
     },
     "metadata": {},
     "output_type": "display_data"
    },
    {
     "data": {
      "text/html": [
       "<pre style=\"color: green\">blarg(x) in Main at In[5]:2</pre>"
      ]
     },
     "metadata": {},
     "output_type": "display_data"
    },
    {
     "data": {
      "text/html": [
       "<pre style=\"color: blue\">Args: (1,)</pre>"
      ]
     },
     "metadata": {},
     "output_type": "display_data"
    },
    {
     "name": "stdout",
     "output_type": "stream",
     "text": [
      "...press enter to continue...\n"
     ]
    },
    {
     "data": {
      "text/plain": [
       "6"
      ]
     },
     "execution_count": 5,
     "metadata": {},
     "output_type": "execute_result"
    }
   ],
   "source": [
    "bar(x) = x + blarg(x)\n",
    "blarg(x) = 5\n",
    "\n",
    "set_breakpoint(Concept2(), blarg)\n",
    "\n",
    "Cassette.@overdub Concept2() bar(1)"
   ]
  },
  {
   "cell_type": "markdown",
   "metadata": {
    "slideshow": {
     "slide_type": "slide"
    }
   },
   "source": [
    "## 🧰 Debugger Bits\n",
    "Lots of bits of a debugger are not too hard."
   ]
  },
  {
   "cell_type": "markdown",
   "metadata": {
    "slideshow": {
     "slide_type": "subslide"
    }
   },
   "source": [
    "### 📖💻🖨➰ A Decent REPL can be written in 50 lines\n",
    "an ok one can be written in 12\n",
    "```julia\n",
    "function run_repl(name2var)\n",
    "    while true\n",
    "        code_ast = Meta.parse(readline())       # READ\n",
    "        code_ast == nothing && break\n",
    "        code_ast = substitute_vars(name2var, code_ast)\n",
    "        try\n",
    "            result = eval(code_ast)             # EVAL\n",
    "            display(result)                     # PRINT\n",
    "        catch err\n",
    "            showerror(stdout, err)\n",
    "        end\n",
    "    end                                         # LOOP\n",
    "end\n",
    "```"
   ]
  },
  {
   "cell_type": "markdown",
   "metadata": {
    "slideshow": {
     "slide_type": "subslide"
    }
   },
   "source": [
    "### 〰🕵️‍♀️ CodeInfo `lineinfo` and `codelocs` \n",
    "Contain all you need to go from Line to IR statement index\n",
    "```julia\n",
    "function statement_ind2src_linenum(ir, statement_ind)\n",
    "    code_loc = ir.codelocs[statement_ind]\n",
    "    return ir.linetable[code_loc].line\n",
    "end\n",
    "```\n",
    "\n",
    "```julia\n",
    "function src_line2ir_statement_ind(ir, src_line)\n",
    "    linetable_ind = findlast(ir.linetable) do lineinfo\n",
    "        lineinfo.line == src_line\n",
    "    end\n",
    "    statement_ind = findlast(isequal(linetable_ind), ir.codelocs)\n",
    "    return statement_ind\n",
    "end\n",
    "```\n",
    "\n",
    "**And/Or CodeTracking.jl**   "
   ]
  },
  {
   "cell_type": "markdown",
   "metadata": {
    "slideshow": {
     "slide_type": "subslide"
    }
   },
   "source": [
    "### 🚶‍♀️🚶‍♂️ Stepping mode needs to be updated every time you enter or exit a function.\n",
    "\n",
    "It is basically a state machine:\n",
    " - On the way is easy: \n",
    "     - $4$ states: StepIn StepNext StepContinue StepOut\n",
    "     \n",
    " - Out is harder:\n",
    "     - $4\\times4=16$ states,\n",
    "     - Before call\n",
    "     - From within call\n",
    "     \n",
    " - This can all be controlled from the `overdub`"
   ]
  },
  {
   "cell_type": "markdown",
   "metadata": {
    "slideshow": {
     "slide_type": "skip"
    }
   },
   "source": [
    "###  🚶‍♀️🚶‍♂️ Answer In (easy)\n",
    "```julia\n",
    "if Cassette.canrecurse(ctx, f, args...)\n",
    "    if cur_mode === StepIn\n",
    "        ctx.metadata.stepping_mode = StepNext\n",
    "    else\n",
    "        ctx.metadata.stepping_mode = StepContinue\n",
    "    end\n",
    "    try\n",
    "        return Cassette.recurse(ctx, f, args...)\n",
    "```"
   ]
  },
  {
   "cell_type": "markdown",
   "metadata": {
    "slideshow": {
     "slide_type": "skip"
    }
   },
   "source": [
    "###  🚶‍♀️🚶‍♂️ Answer Out (Harder)\n",
    "```julia\n",
    "finally\n",
    "    child_instruction = ctx.metadata.stepping_mode\n",
    "    if child_instruction !== StepContinue\n",
    "        ctx.metadata.stepping_mode = StepNext\n",
    "    elseif cur_mode === StepIn\n",
    "        ctx.metadata.stepping_mode = StepContinue\n",
    "    else \n",
    "        ctx.metadata.stepping_mode = cur_mode\n",
    "    end\n",
    "end\n",
    "```"
   ]
  },
  {
   "cell_type": "markdown",
   "metadata": {
    "slideshow": {
     "slide_type": "slide"
    }
   },
   "source": [
    "# We will now have a short break\n",
    "\n",
    "<img src=\"https://i.redd.it/8k2lvre2o9z21.jpg\" width=\"50%\" />\n",
    "\n",
    "**This is a snake wearing a hat.** It is clearly having a break also.  \n",
    "That is everything I know about this snake."
   ]
  },
  {
   "cell_type": "markdown",
   "metadata": {
    "slideshow": {
     "slide_type": "slide"
    }
   },
   "source": [
    "## 🐜 Debugger 2\n",
    "### MRH v0.3-like\n",
    "Modify the code directly to instert the statements"
   ]
  },
  {
   "cell_type": "markdown",
   "metadata": {
    "slideshow": {
     "slide_type": "subslide"
    }
   },
   "source": [
    "### 🤝 To do this we are going to need to use an IR pass\n",
    " - IR pass is the same kind of thing we did at the start.\n",
    " - but Cassette gives us some helpers, and handles some of fiddlier things.\n",
    " - Your path function gets as its input a `Reflection` object.\n",
    " - It must return a `CodeInfo`"
   ]
  },
  {
   "cell_type": "markdown",
   "metadata": {
    "slideshow": {
     "slide_type": "subslide"
    }
   },
   "source": [
    "### 👓 What do we Know (`Reflection` input):\n",
    " - `method` (+ signature + static_params)\n",
    " - `code_info`: (copied) We are going to edit this\n",
    "      - `code`: Array of linearized expressions (untyped IR)\n",
    "      - `codelocs`: maps from IR statement index to entry in `lineinfo`\n",
    "      - `lineinfo`: tells you a position in linenumber + filenam\n",
    "      - `slotnames`: Array of names for all the variables"
   ]
  },
  {
   "cell_type": "markdown",
   "metadata": {
    "slideshow": {
     "slide_type": "subslide"
    }
   },
   "source": [
    "### ✍️ IR writing Helpers: `call_expr`\n",
    "\n",
    "```julia\n",
    "function call_expr(mod::Module, func::Symbol, args...)\n",
    "    Expr(:call, Expr(:nooverdub, GlobalRef(mod, func)), args...)\n",
    "end\n",
    "```\n",
    "\n",
    "Without the `:nooverdub` Cassette will try and recurse into this"
   ]
  },
  {
   "cell_type": "markdown",
   "metadata": {
    "slideshow": {
     "slide_type": "skip"
    }
   },
   "source": [
    "### 📝🎢 IR writing Helpers: `extended_insert_statements`\n",
    "\n",
    "\n",
    "```julia\n",
    "extended_insert_statements!(\n",
    "    ci.code,\n",
    "    ci.codelocs,\n",
    "    (stmt, orig_index) -> number of statments to insert Or `nothing`,\n",
    "    (stmt, new_index, orig_index) -> [new statements],\n",
    ")\n",
    "```\n",
    "\n",
    "Minor extension of `Cassette.insert_statements` actually does the IR editting."
   ]
  },
  {
   "cell_type": "markdown",
   "metadata": {
    "slideshow": {
     "slide_type": "subslide"
    }
   },
   "source": [
    "### 🧾 For each statement we want to\n",
    "\n",
    "In julia:\n",
    "```julia\n",
    "if (should_break(method, original_statement_index)\n",
    "    variables_names=Symbol[]\n",
    "    variables=Any[]\n",
    "    # Do stuff for each slot to\n",
    "    # capture all variables that are defined\n",
    "    #...\n",
    "    break_action(method, original_statement_index, variables_names, variables)\n",
    "end\n",
    "$original_statement\n",
    "```"
   ]
  },
  {
   "cell_type": "markdown",
   "metadata": {
    "slideshow": {
     "slide_type": "subslide"
    }
   },
   "source": [
    "### 🧾🏁 For each statement we want to\n",
    "\n",
    "In untyped IR:\n",
    "\n",
    "```julia\n",
    "call_expr(MagneticReadHead, :should_break, method, orig_ind),\n",
    "Expr(:gotoifnot, SSAValue(ind), next_statement_ind)),\n",
    "call_expr(Base, :getindex, GlobalRef(Core, :Symbol)),\n",
    "call_expr(Base, :getindex, GlobalRef(Core, :Any)),\n",
    "    # Do stuff for each slot to\n",
    "    # capture all variables that are defined\n",
    "    #...\n",
    "\n",
    "call_expr(MagneticReadHead, :break_action,\n",
    "    method, orig_ind, SSAValue(ind+2), SSAValue(ind+3)\n",
    ")\n",
    "end\n",
    "original_statement\n",
    "```"
   ]
  },
  {
   "cell_type": "markdown",
   "metadata": {
    "slideshow": {
     "slide_type": "subslide"
    }
   },
   "source": [
    "### 🎰 For each slot we want to\n",
    "\n",
    "In julia:\n",
    "```julia\n",
    "if @isdefined(slotname)\n",
    "    push!(variable_names, slotname)\n",
    "    push!(variables, slot)\n",
    "end\n",
    "```"
   ]
  },
  {
   "cell_type": "markdown",
   "metadata": {
    "slideshow": {
     "slide_type": "subslide"
    }
   },
   "source": [
    "### 🧾🏁 For each slot we want to\n",
    "In untyped IR:\n",
    "```julia\n",
    "Expr(:isdefined, slot) # cur_ind\n",
    "Expr(:gotoifnot, Core.SSAValue(cur_ind), cur_ind + 4)\n",
    "call_expr(Base, :push!, names_ssa, QuoteNode(slotname)\n",
    "call_expr(Base, :push!, values_ssa, slot)\n",
    "```"
   ]
  },
  {
   "cell_type": "code",
   "execution_count": 43,
   "metadata": {
    "slideshow": {
     "slide_type": "skip"
    }
   },
   "outputs": [],
   "source": [
    "Cassette.@context Concept31\n",
    "function Cassette.overdub(ctx::Concept31, f, args...)\n",
    "    depth = ctx.metadata\n",
    "    if depth[] < 2 && Cassette.canrecurse(ctx, f, args...)\n",
    "        method = @which f(args...)\n",
    "        iprintstyled(method, :green);\n",
    "        depth[] += 1\n",
    "        try\n",
    "            Cassette.recurse(ctx, f, args...)\n",
    "        finally\n",
    "            depth[] -= 1\n",
    "        end\n",
    "    else \n",
    "        Cassette.fallback(ctx, f, args...)\n",
    "    end\n",
    "end\n"
   ]
  },
  {
   "cell_type": "code",
   "execution_count": 44,
   "metadata": {
    "slideshow": {
     "slide_type": "skip"
    }
   },
   "outputs": [
    {
     "data": {
      "text/plain": [
       "getfield(Main, Symbol(\"##PassType#365\"))()"
      ]
     },
     "execution_count": 44,
     "metadata": {},
     "output_type": "execute_result"
    }
   ],
   "source": [
    "call_expr(mod::Module, func::Symbol, args...) = Expr(:call, Expr(:nooverdub, GlobalRef(mod, func)), args...)\n",
    "\n",
    "function instrument31!(::Type{<:Concept31}, reflection::Cassette.Reflection)\n",
    "    ci = reflection.code_info\n",
    "    \n",
    "    enter_debug_statements(::Any, ::Any) = nothing\n",
    "    function enter_debug_statements(stmt::Expr, initial_ind)\n",
    "        cur_ind=initial_ind\n",
    "        new_statements=[]\n",
    "        for (slotind, slotname) in enumerate(ci.slotnames)\n",
    "            slot = Core.SlotNumber(slotind)\n",
    "            push!(new_statements, Expr(:isdefined, slot))\n",
    "            cur_ind+=1\n",
    "            push!(new_statements,\n",
    "                Expr(:gotoifnot, Core.SSAValue(cur_ind-1), cur_ind + 2)\n",
    "            )\n",
    "            cur_ind+=1\n",
    "            push!(new_statements, \n",
    "                call_expr(Main, :iprintstyled,\n",
    "                    \"Index \", initial_ind, \" \",\n",
    "                    QuoteNode(slotname), \" \", slot,\n",
    "                    QuoteNode(:blue)\n",
    "                )\n",
    "            )\n",
    "            cur_ind+=1\n",
    "        end\n",
    "        push!(new_statements, stmt)\n",
    "        return new_statements\n",
    "    end\n",
    "    \n",
    "    Core.println()\n",
    "    Cassette.insert_statements!(\n",
    "        ci.code, ci.codelocs,\n",
    "        (stmt, i) -> stmt isa Expr ? 3length(ci.slotnames)+1 : nothing,\n",
    "        enter_debug_statements,\n",
    "    )\n",
    "    #Core.println(ci)\n",
    "    Core.println\n",
    "    return ci\n",
    "end\n",
    "\n",
    "pass31n = Cassette.@pass instrument31!"
   ]
  },
  {
   "cell_type": "code",
   "execution_count": 45,
   "metadata": {
    "slideshow": {
     "slide_type": "subslide"
    }
   },
   "outputs": [
    {
     "data": {
      "text/html": [
       "<pre style=\"color: blue\">Index 1 #self# getfield(Main, Symbol(\"##74#75\"))()</pre>"
      ]
     },
     "metadata": {},
     "output_type": "display_data"
    },
    {
     "data": {
      "text/html": [
       "<pre style=\"color: green\">fun_times() in Main at In[45]:2</pre>"
      ]
     },
     "metadata": {},
     "output_type": "display_data"
    },
    {
     "data": {
      "text/html": [
       "<pre style=\"color: blue\">Index 1 #self# fun_times</pre>"
      ]
     },
     "metadata": {},
     "output_type": "display_data"
    },
    {
     "data": {
      "text/html": [
       "<pre style=\"color: blue\">Index 11 #self# fun_times</pre>"
      ]
     },
     "metadata": {},
     "output_type": "display_data"
    },
    {
     "data": {
      "text/html": [
       "<pre style=\"color: blue\">Index 11 y 2</pre>"
      ]
     },
     "metadata": {},
     "output_type": "display_data"
    },
    {
     "data": {
      "text/html": [
       "<pre style=\"color: blue\">Index 21 #self# fun_times</pre>"
      ]
     },
     "metadata": {},
     "output_type": "display_data"
    },
    {
     "data": {
      "text/html": [
       "<pre style=\"color: blue\">Index 21 x 2</pre>"
      ]
     },
     "metadata": {},
     "output_type": "display_data"
    },
    {
     "data": {
      "text/html": [
       "<pre style=\"color: blue\">Index 21 y 2</pre>"
      ]
     },
     "metadata": {},
     "output_type": "display_data"
    },
    {
     "data": {
      "text/html": [
       "<pre style=\"color: green\">+(x::T, y::T) where T<:Union{Int128, Int16, Int32, Int64, Int8, UInt128, UInt16, UInt32, UInt64, UInt8} in Base at int.jl:53</pre>"
      ]
     },
     "metadata": {},
     "output_type": "display_data"
    },
    {
     "data": {
      "text/html": [
       "<pre style=\"color: blue\">Index 1 #self# +</pre>"
      ]
     },
     "metadata": {},
     "output_type": "display_data"
    },
    {
     "data": {
      "text/html": [
       "<pre style=\"color: blue\">Index 1 x 2</pre>"
      ]
     },
     "metadata": {},
     "output_type": "display_data"
    },
    {
     "data": {
      "text/html": [
       "<pre style=\"color: blue\">Index 1 y 2</pre>"
      ]
     },
     "metadata": {},
     "output_type": "display_data"
    },
    {
     "data": {
      "text/html": [
       "<pre style=\"color: blue\">Index 11 #self# +</pre>"
      ]
     },
     "metadata": {},
     "output_type": "display_data"
    },
    {
     "data": {
      "text/html": [
       "<pre style=\"color: blue\">Index 11 x 2</pre>"
      ]
     },
     "metadata": {},
     "output_type": "display_data"
    },
    {
     "data": {
      "text/html": [
       "<pre style=\"color: blue\">Index 11 y 2</pre>"
      ]
     },
     "metadata": {},
     "output_type": "display_data"
    },
    {
     "data": {
      "text/html": [
       "<pre style=\"color: blue\">Index 31 #self# fun_times</pre>"
      ]
     },
     "metadata": {},
     "output_type": "display_data"
    },
    {
     "data": {
      "text/html": [
       "<pre style=\"color: blue\">Index 31 x 2</pre>"
      ]
     },
     "metadata": {},
     "output_type": "display_data"
    },
    {
     "data": {
      "text/html": [
       "<pre style=\"color: blue\">Index 31 y 2</pre>"
      ]
     },
     "metadata": {},
     "output_type": "display_data"
    },
    {
     "data": {
      "text/html": [
       "<pre style=\"color: blue\">Index 41 #self# fun_times</pre>"
      ]
     },
     "metadata": {},
     "output_type": "display_data"
    },
    {
     "data": {
      "text/html": [
       "<pre style=\"color: blue\">Index 41 x 2</pre>"
      ]
     },
     "metadata": {},
     "output_type": "display_data"
    },
    {
     "data": {
      "text/html": [
       "<pre style=\"color: blue\">Index 41 y 4</pre>"
      ]
     },
     "metadata": {},
     "output_type": "display_data"
    },
    {
     "data": {
      "text/html": [
       "<pre style=\"color: blue\">Index 5 #self# getfield(Main, Symbol(\"##74#75\"))()</pre>"
      ]
     },
     "metadata": {},
     "output_type": "display_data"
    },
    {
     "name": "stdout",
     "output_type": "stream",
     "text": [
      "\n",
      "\n",
      "\n",
      "\n",
      "\n",
      "\n"
     ]
    },
    {
     "data": {
      "text/plain": [
       "4"
      ]
     },
     "execution_count": 45,
     "metadata": {},
     "output_type": "execute_result"
    }
   ],
   "source": [
    "function fun_times()\n",
    "    y=2\n",
    "    x=2\n",
    "    y=x+y\n",
    "end \n",
    "Cassette.@overdub Concept31(metadata=Ref(0), pass=pass31n) fun_times()"
   ]
  },
  {
   "cell_type": "markdown",
   "metadata": {
    "slideshow": {
     "slide_type": "subslide"
    }
   },
   "source": [
    "### 🙅‍♂️🙅‍♀️ But! you can't just call `isdefined` whenever you want\n",
    "```julia\n",
    "function danger19()\n",
    "    y=2\n",
    "    function inner()\n",
    "        h=y\n",
    "        y=12\n",
    "        return h\n",
    "    end\n",
    "    inner()\n",
    "end \n",
    "Cassette.@overdub Concept31(metadata=Ref(0), pass=pass31n) danger19()\n",
    "```"
   ]
  },
  {
   "cell_type": "markdown",
   "metadata": {
    "slideshow": {
     "slide_type": "subslide"
    }
   },
   "source": [
    "### 💥🔥 Woot! the optimizer just OOB'ed\n",
    "\n",
    "<img src=\"./boundserror.png\" style=\"border-style: double;\"/>\n"
   ]
  },
  {
   "cell_type": "markdown",
   "metadata": {
    "slideshow": {
     "slide_type": "subslide"
    }
   },
   "source": [
    "## 🥍📚 Solving that is left as an excercise to the reader\n",
    "Basically need to make sure variables are **declared**\n",
    "before you check if they are **defined**.\n",
    "\n",
    "Reliable way is to just ban any slot that was touched by `NewvarNode`.  \n",
    "but then you don't get all the variables."
   ]
  },
  {
   "cell_type": "markdown",
   "metadata": {
    "slideshow": {
     "slide_type": "slide"
    }
   },
   "source": [
    "## 🤔 How make your instrumenting debugger,\n",
    "### Or Cassette code in general\n",
    "## Not incredibly 🐌 sloooow 🐢\n",
    "#### At runtime"
   ]
  },
  {
   "cell_type": "markdown",
   "metadata": {
    "slideshow": {
     "slide_type": "subslide"
    }
   },
   "source": [
    "## MRH v0.3 is literally 4 orders of magnitude faster than v0.2\n",
    "#### At runtime\n",
    "# 🐆 gotta go fast 🐇"
   ]
  },
  {
   "cell_type": "markdown",
   "metadata": {
    "slideshow": {
     "slide_type": "subslide"
    }
   },
   "source": [
    "### ♨️➰ The Hottest of Loops\n",
    "\n",
    "There is no **hot loop** as hot as\n",
    "_literally every single statement in your code_\n",
    "\n",
    "Almost as hot:\n",
    "_Literally every function call in your code_"
   ]
  },
  {
   "cell_type": "markdown",
   "metadata": {
    "slideshow": {
     "slide_type": "subslide"
    }
   },
   "source": [
    "### 🗄️🖥️ Don't implement your state-machine using dispatch\n",
    " - Previously `StepNext`, `Continue` were singleton types.\n",
    " - working out new state was done via (dynamic) dispatches\n",
    " - This needs to be done in every function call ♨️➰\n",
    " - Dispatch is fast 🏃. branches on  enums is faster 🚀"
   ]
  },
  {
   "cell_type": "markdown",
   "metadata": {
    "slideshow": {
     "slide_type": "subslide"
    }
   },
   "source": [
    "### 📠💽 Don't store a running `Dict` with references to all variables\n",
    " - if everytime a variable is assigned to you also assign it into a `Dict` stored in the `Context`:\n",
    " - **Upside:** No `isdefined` stuff.\n",
    " - **Downside:** call `setindex` every single assignment. Many allocations."
   ]
  },
  {
   "cell_type": "markdown",
   "metadata": {
    "slideshow": {
     "slide_type": "subslide"
    }
   },
   "source": [
    "### 📞📖 Don't call `methods` to get the `Method`\n",
    "\n",
    " - Calling to `method`s takes whole microseconds.\n",
    " - You get it \"free\" during a pass.\n",
    " - Til then learn to live without."
   ]
  },
  {
   "cell_type": "markdown",
   "metadata": {
    "slideshow": {
     "slide_type": "subslide"
    }
   },
   "source": [
    "### 🚫 👨‍⚕️  investigate `@nospecialize`\n",
    " - This can matter for runtime because sometimes things get compiled again.\n",
    " - No sense compiling specialized for every function-type and arg types\n",
    " - Instrumentation is always the same, regardless of input type."
   ]
  },
  {
   "cell_type": "markdown",
   "metadata": {
    "slideshow": {
     "slide_type": "subslide"
    }
   },
   "source": [
    "### ∈ 📏  Inline Your Overdubs.\n",
    "\n",
    "Huge performance gain from\n",
    "```julia\n",
    "@inline function Cassette.overdub(ctx::HandEvalCtx, f, args...)\n",
    "```"
   ]
  },
  {
   "cell_type": "markdown",
   "metadata": {
    "slideshow": {
     "slide_type": "slide"
    }
   },
   "source": [
    "# ❓What can we do about those 🐋 compile times?"
   ]
  },
  {
   "cell_type": "markdown",
   "metadata": {
    "slideshow": {
     "slide_type": "subslide"
    }
   },
   "source": [
    "### MRH massively increases the amount of Lowered IR generated\n",
    "\n",
    "Original Code Lowered Size: $$O(n_{statements})\\qquad \\qquad \\mathrm{eg:}\\quad 160$$\n",
    "\n",
    "MRH Instrumented Size: $$O(n_{slots} \\times n_{statements}) \\qquad \\qquad \\mathrm{eg:}\\quad 25,230$$ \n",
    "\n",
    "### Compile time-complexity is at worse then quadratic vs IR length"
   ]
  },
  {
   "cell_type": "markdown",
   "metadata": {
    "slideshow": {
     "slide_type": "subslide"
    }
   },
   "source": [
    "### A) Don't instrument every function\n",
    " - MRH already has an option for `set_uninstrumented!`\n",
    " - This blocks breakpoints anywhere deeper in the call-stack\n",
    " - **New Idea:** _Semi-instrumented_. Don't instrument this *except* to allow children to be instrumented."
   ]
  },
  {
   "cell_type": "markdown",
   "metadata": {
    "slideshow": {
     "slide_type": "subslide"
    }
   },
   "source": [
    "### B) Generate-less code by less slot related instrumentation\n",
    " - MRH Instrumented Size: $O(n_{slots} \\times n_{statements})$\n",
    " - More precisely it is $\\approx (4\\times n_{slots} + 5) \\times n_{statements}$\n",
    " - What can we cut:\n",
    "  - 🚧 building list of slotnames \n",
    "       - $(n_{slots}+1) \\times n_{statements}$\n",
    "  - ☑️ `isdefined` before it has been used\n",
    "  - ☐ `isdefined` after it has been used \n",
    "       - between both of the above: $\\le2 \\times n_{slots} \\times n_{statements}$\n"
   ]
  },
  {
   "cell_type": "markdown",
   "metadata": {
    "slideshow": {
     "slide_type": "subslide"
    }
   },
   "source": [
    "### C) Generate-less code by only instrumented each-line once\n",
    " - MRH Instrumented Size: $O(n_{slots} \\times n_{statements})$\n",
    " - More precisely it is $\\approx (5 + 4\\times n_{slots}) \\times n_{statements}$\n",
    " - If we instrument per line instread of per statement:\n",
    "   $n_{slots} \\times n_{lines} +  n_{statements}$\n",
    " - Easier to reason when debugging at this level anyway\n",
    " - Assumes lines follow a good breakup of code."
   ]
  },
  {
   "cell_type": "markdown",
   "metadata": {
    "slideshow": {
     "slide_type": "subslide"
    }
   },
   "source": [
    "### D) Sortout Compile Caching between julia runs\n",
    "\n",
    " - MRH always instruments the same code the same way\n",
    " - So we can precompile the instrumentation for all of Base+StdLibs and it is always the same\n",
    " - One way is to ship a system-image"
   ]
  },
  {
   "cell_type": "markdown",
   "metadata": {
    "slideshow": {
     "slide_type": "slide"
    }
   },
   "source": [
    "# 🔜 What is next for MagneticReadHead ? \n",
    " - Bug squashing\n",
    " - Rewrite in IRTools.jl\n",
    " - More alignment with Debugger.jl / Apply this kind of tooling into Debugger.jl"
   ]
  }
 ],
 "metadata": {
  "kernelspec": {
   "display_name": "Julia 1.1.0",
   "language": "julia",
   "name": "julia-1.1"
  },
  "language_info": {
   "file_extension": ".jl",
   "mimetype": "application/julia",
   "name": "julia",
   "version": "1.1.0"
  }
 },
 "nbformat": 4,
 "nbformat_minor": 2
}
